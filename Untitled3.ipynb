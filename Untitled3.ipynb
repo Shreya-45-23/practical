{
 "cells": [
  {
   "cell_type": "code",
   "execution_count": 10,
   "id": "4e9d1354",
   "metadata": {},
   "outputs": [],
   "source": [
    "import numpy as np\n",
    "a = np.array([\n",
    "    [100,200,150,300],\n",
    "    [50,60,40,80],\n",
    "    [300,400,350,500],\n",
    "    [200,250,220,270],\n",
    "    [80,90,70,100]\n",
    "])"
   ]
  },
  {
   "cell_type": "code",
   "execution_count": 11,
   "id": "10e04f3f",
   "metadata": {},
   "outputs": [
    {
     "data": {
      "text/plain": [
       "2"
      ]
     },
     "execution_count": 11,
     "metadata": {},
     "output_type": "execute_result"
    }
   ],
   "source": [
    "#1 Determine the number of dimensions of the array.\n",
    "a.ndim"
   ]
  },
  {
   "cell_type": "code",
   "execution_count": 12,
   "id": "5716ad4d",
   "metadata": {},
   "outputs": [
    {
     "data": {
      "text/plain": [
       "dtype('int32')"
      ]
     },
     "execution_count": 12,
     "metadata": {},
     "output_type": "execute_result"
    }
   ],
   "source": [
    "#2 Identify the data type of elements in the array.\n",
    "a.dtype"
   ]
  },
  {
   "cell_type": "code",
   "execution_count": 13,
   "id": "9398bbd0",
   "metadata": {},
   "outputs": [
    {
     "data": {
      "text/plain": [
       "20"
      ]
     },
     "execution_count": 13,
     "metadata": {},
     "output_type": "execute_result"
    }
   ],
   "source": [
    "#3 Calculate the total number of elements in the array.\n",
    "a.size\n"
   ]
  },
  {
   "cell_type": "code",
   "execution_count": 14,
   "id": "ee3b851a",
   "metadata": {},
   "outputs": [
    {
     "data": {
      "text/plain": [
       "80"
      ]
     },
     "execution_count": 14,
     "metadata": {},
     "output_type": "execute_result"
    }
   ],
   "source": [
    "#4 Find the total memory (in bytes) used by the array.\n",
    "a.nbytes"
   ]
  },
  {
   "cell_type": "code",
   "execution_count": 16,
   "id": "5960a813",
   "metadata": {},
   "outputs": [
    {
     "data": {
      "text/plain": [
       "array([[120, 220, 170, 320],\n",
       "       [ 70,  80,  60, 100],\n",
       "       [320, 420, 370, 520],\n",
       "       [220, 270, 240, 290],\n",
       "       [100, 110,  90, 120]])"
      ]
     },
     "execution_count": 16,
     "metadata": {},
     "output_type": "execute_result"
    }
   ],
   "source": [
    "#5 Add 20 units of stock to all products across all locations.\n",
    "a+20"
   ]
  },
  {
   "cell_type": "code",
   "execution_count": 17,
   "id": "9ffb284c",
   "metadata": {},
   "outputs": [
    {
     "data": {
      "text/plain": [
       "array([290, 390, 340, 490])"
      ]
     },
     "execution_count": 17,
     "metadata": {},
     "output_type": "execute_result"
    }
   ],
   "source": [
    "#6 Deduct 10 units of stock from Product 3 across all locations.\n",
    "a[2]-10"
   ]
  },
  {
   "cell_type": "code",
   "execution_count": 18,
   "id": "3322c58f",
   "metadata": {},
   "outputs": [
    {
     "data": {
      "text/plain": [
       "120"
      ]
     },
     "execution_count": 18,
     "metadata": {},
     "output_type": "execute_result"
    }
   ],
   "source": [
    "#7 Double the stock of all products at Location 2 (column 2).\n",
    "a[1,1]*2"
   ]
  },
  {
   "cell_type": "code",
   "execution_count": 20,
   "id": "6ce6011e",
   "metadata": {},
   "outputs": [
    {
     "data": {
      "text/plain": [
       "array([[10., 20., 15., 30.],\n",
       "       [ 5.,  6.,  4.,  8.],\n",
       "       [30., 40., 35., 50.],\n",
       "       [20., 25., 22., 27.],\n",
       "       [ 8.,  9.,  7., 10.]])"
      ]
     },
     "execution_count": 20,
     "metadata": {},
     "output_type": "execute_result"
    }
   ],
   "source": [
    "#8 Calculate the percentage of stock available for each product at all locations, assuming the maximum capacity of each location is 1000 units.\n",
    "max_capacity = 1000\n",
    "(a/ max_capacity) * 100"
   ]
  },
  {
   "cell_type": "code",
   "execution_count": 21,
   "id": "485842e4",
   "metadata": {},
   "outputs": [
    {
     "data": {
      "text/plain": [
       "array([ 750,  230, 1550,  940,  340])"
      ]
     },
     "execution_count": 21,
     "metadata": {},
     "output_type": "execute_result"
    }
   ],
   "source": [
    "#9 Calculate the total stock of each product across all locations.\n",
    "np.sum(a,axis = 1)"
   ]
  },
  {
   "cell_type": "code",
   "execution_count": 22,
   "id": "f3f759c9",
   "metadata": {},
   "outputs": [
    {
     "data": {
      "text/plain": [
       "array([ 730, 1000,  830, 1250])"
      ]
     },
     "execution_count": 22,
     "metadata": {},
     "output_type": "execute_result"
    }
   ],
   "source": [
    "#10 Determine the total stock available in each location.\n",
    "np.sum(a,axis = 0)"
   ]
  },
  {
   "cell_type": "code",
   "execution_count": 23,
   "id": "99420b0a",
   "metadata": {},
   "outputs": [
    {
     "data": {
      "text/plain": [
       "array([300, 400, 350, 500])"
      ]
     },
     "execution_count": 23,
     "metadata": {},
     "output_type": "execute_result"
    }
   ],
   "source": [
    "#11 Find the product with the maximum total stock across all locations.\n",
    "np.max(a,axis = 0)"
   ]
  },
  {
   "cell_type": "code",
   "execution_count": 24,
   "id": "c20f57c5",
   "metadata": {},
   "outputs": [
    {
     "data": {
      "text/plain": [
       "array([100,  40, 300, 200,  70])"
      ]
     },
     "execution_count": 24,
     "metadata": {},
     "output_type": "execute_result"
    }
   ],
   "source": [
    "#12 identify the location with the minimum total stock across all products.\n",
    "np.min(a,axis = 1)"
   ]
  },
  {
   "cell_type": "code",
   "execution_count": 25,
   "id": "304f0476",
   "metadata": {},
   "outputs": [
    {
     "data": {
      "text/plain": [
       "array([187.5,  57.5, 387.5, 235. ,  85. ])"
      ]
     },
     "execution_count": 25,
     "metadata": {},
     "output_type": "execute_result"
    }
   ],
   "source": [
    "#13 Compute the average stock per product across all locations.\n",
    "np.mean(a,axis = 1)"
   ]
  },
  {
   "cell_type": "code",
   "execution_count": 26,
   "id": "ccd18830",
   "metadata": {},
   "outputs": [
    {
     "data": {
      "text/plain": [
       "array([50, 60, 40, 80])"
      ]
     },
     "execution_count": 26,
     "metadata": {},
     "output_type": "execute_result"
    }
   ],
   "source": [
    "#14 Retrieve the stock levels of Product 2 across all locations.\n",
    "a[1]"
   ]
  },
  {
   "cell_type": "code",
   "execution_count": 27,
   "id": "4ef3a787",
   "metadata": {},
   "outputs": [
    {
     "data": {
      "text/plain": [
       "array([150,  40, 350, 220,  70])"
      ]
     },
     "execution_count": 27,
     "metadata": {},
     "output_type": "execute_result"
    }
   ],
   "source": [
    "#15 Extract the stock levels for all products in Location 3.\n",
    "a[:,2]"
   ]
  },
  {
   "cell_type": "code",
   "execution_count": 33,
   "id": "226cbccc",
   "metadata": {},
   "outputs": [
    {
     "data": {
      "text/plain": [
       "array([[100, 200],\n",
       "       [ 50,  60],\n",
       "       [300, 400]])"
      ]
     },
     "execution_count": 33,
     "metadata": {},
     "output_type": "execute_result"
    }
   ],
   "source": [
    "#17 Extract the stock levels of the first 3 products for the first 2 locations.\n",
    "a[0:3,0:2]"
   ]
  },
  {
   "cell_type": "code",
   "execution_count": 35,
   "id": "f84d3adf",
   "metadata": {},
   "outputs": [
    {
     "data": {
      "text/plain": [
       "array([[220, 270],\n",
       "       [ 70, 100]])"
      ]
     },
     "execution_count": 35,
     "metadata": {},
     "output_type": "execute_result"
    }
   ],
   "source": [
    "#18 Slice the stock levels of the last 2 products for the last 2 locations.\n",
    "a[3:5, 2:4]"
   ]
  },
  {
   "cell_type": "code",
   "execution_count": 37,
   "id": "a0883fa0",
   "metadata": {},
   "outputs": [
    {
     "name": "stdout",
     "output_type": "stream",
     "text": [
      "70\n"
     ]
    }
   ],
   "source": [
    "#19 Identify the stock of Product 5 at Location 3.\n",
    "stock = a[4,2]\n",
    "print(stock)"
   ]
  },
  {
   "cell_type": "code",
   "execution_count": 38,
   "id": "1a747a96",
   "metadata": {},
   "outputs": [
    {
     "name": "stdout",
     "output_type": "stream",
     "text": [
      "[100 220]\n"
     ]
    }
   ],
   "source": [
    "#20 Use advanced indexing to find the stock levels of Product 1 at Location 1 and Product 4 at Location 3. \n",
    "products = [0, 3]  \n",
    "locations = [0, 2]  \n",
    "\n",
    "stock_levels = a[products, locations]\n",
    "\n",
    "print(stock_levels)\n"
   ]
  },
  {
   "cell_type": "code",
   "execution_count": 39,
   "id": "0f9161e7",
   "metadata": {},
   "outputs": [
    {
     "name": "stdout",
     "output_type": "stream",
     "text": [
      "[[100 200 150 300]\n",
      " [ 50  60  40 100]\n",
      " [300 400 350 500]\n",
      " [200 250 220 270]\n",
      " [ 80  90  70 100]]\n"
     ]
    }
   ],
   "source": [
    "#21 Update the stock of Product 2 at Location 4 to 100 units.\n",
    "a[1, 3] = 100  \n",
    "print(a)"
   ]
  },
  {
   "cell_type": "code",
   "execution_count": null,
   "id": "032e9003",
   "metadata": {},
   "outputs": [],
   "source": []
  }
 ],
 "metadata": {
  "kernelspec": {
   "display_name": "Python 3 (ipykernel)",
   "language": "python",
   "name": "python3"
  },
  "language_info": {
   "codemirror_mode": {
    "name": "ipython",
    "version": 3
   },
   "file_extension": ".py",
   "mimetype": "text/x-python",
   "name": "python",
   "nbconvert_exporter": "python",
   "pygments_lexer": "ipython3",
   "version": "3.9.12"
  }
 },
 "nbformat": 4,
 "nbformat_minor": 5
}
